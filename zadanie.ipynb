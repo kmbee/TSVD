nova_vzorka = nova_vzorka.withColumn("Hit_Object_off_Carriageway", when(
		(nova_vzorka["Hit_Object_off_Carriageway"] == -1) |
		(nova_vzorka["Hit_Object_off_Carriageway"] == 1) |
		(nova_vzorka["Hit_Object_off_Carriageway"] == 2) |
		(nova_vzorka["Hit_Object_off_Carriageway"] == 3) |
		(nova_vzorka["Hit_Object_off_Carriageway"] == 4) |
		(nova_vzorka["Hit_Object_off_Carriageway"] == 5) |
		(nova_vzorka["Hit_Object_off_Carriageway"] == 6) |
		(nova_vzorka["Hit_Object_off_Carriageway"] == 7) |
		(nova_vzorka["Hit_Object_off_Carriageway"] == 8) |
		(nova_vzorka["Hit_Object_off_Carriageway"] == 9) |
		(nova_vzorka["Hit_Object_off_Carriageway"] == 10) |
		(nova_vzorka["Hit_Object_off_Carriageway"] == 11),1).otherwise(nova_vzorka["Hit_Object_off_Carriageway"]))
   
   
nova_vzorka = nova_vzorka.withColumn("Junction_Detail", when(
		(nova_vzorka["Junction_Detail"] == 1) |
		(nova_vzorka["Junction_Detail"] == 2) |
		(nova_vzorka["Junction_Detail"] == 3) |
		(nova_vzorka["Junction_Detail"] == 4) |
		(nova_vzorka["Junction_Detail"] == 5) |
		(nova_vzorka["Junction_Detail"] == 6) |
		(nova_vzorka["Junction_Detail"] == 7) |
		(nova_vzorka["Junction_Detail"] == 8) |
		(nova_vzorka["Junction_Detail"] == 9), 1).otherwise(nova_vzorka["Junction_Detail"]))
    
nova_vzorka = nova_vzorka.withColumn("Junction_Location", when(
		(nova_vzorka["Junction_Location"] == 1) |
		(nova_vzorka["Junction_Location"] == 2) |
		(nova_vzorka["Junction_Location"] == 3) |
		(nova_vzorka["Junction_Location"] == 4) |
		(nova_vzorka["Junction_Location"] == 5) |
		(nova_vzorka["Junction_Location"] == 6) |
		(nova_vzorka["Junction_Location"] == 7) |
		(nova_vzorka["Junction_Location"] == 8), 1).otherwise(nova_vzorka["Junction_Location"]))
    
nova_vzorka = nova_vzorka.withColumn("Skidding_and_Overturning", when(
		(nova_vzorka["Skidding_and_Overturning"] == 1) |
		(nova_vzorka["Skidding_and_Overturning"] == 2) |
		(nova_vzorka["Skidding_and_Overturning"] == 3) |
		(nova_vzorka["Skidding_and_Overturning"] == 4) |
		(nova_vzorka["Skidding_and_Overturning"] == 5), 1).otherwise(nova_vzorka["Skidding_and_Overturning"]))
